{
  "nbformat": 4,
  "nbformat_minor": 0,
  "metadata": {
    "colab": {
      "name": "linkprediction.ipynb",
      "provenance": [],
      "collapsed_sections": []
    },
    "kernelspec": {
      "display_name": "Python 3",
      "name": "python3"
    },
    "language_info": {
      "name": "python"
    }
  },
  "cells": [
    {
      "cell_type": "code",
      "metadata": {
        "id": "jBluQWgTyqXu"
      },
      "source": [
        "import pandas as pd\n",
        "import networkx as nx\n",
        "import numpy as np\n",
        "from math import *\n",
        "import sys\n",
        "from time import time\n",
        "import matplotlib.pyplot as plt\n",
        "from sklearn import metrics\n",
        "from sklearn.metrics import roc_curve\n",
        "from sklearn.model_selection import train_test_split\n",
        "import pickle\n",
        "import seaborn as sns\n",
        "from tqdm import tqdm\n",
        "from pandas import HDFStore,DataFrame\n",
        "from pandas import read_hdf\n",
        "from sklearn.ensemble import RandomForestClassifier\n",
        "from sklearn.model_selection import RandomizedSearchCV\n",
        "from scipy.stats import randint as sp_randint\n",
        "from sklearn.metrics import f1_score\n",
        "from sklearn.metrics import confusion_matrix\n",
        "from sklearn.metrics import roc_curve, auc\n",
        "from sklearn.metrics import precision_recall_curve\n",
        "import csv\n",
        "from sklearn.ensemble import GradientBoostingClassifier\n",
        "from sklearn.model_selection import GridSearchCV\n",
        "import random"
      ],
      "execution_count": null,
      "outputs": []
    },
    {
      "cell_type": "code",
      "metadata": {
        "colab": {
          "base_uri": "https://localhost:8080/"
        },
        "id": "XkJGoxZWzQWP",
        "outputId": "43338799-d594-4c0f-8b0b-6e1e544f8377"
      },
      "source": [
        "from google.colab import drive\n",
        "drive.mount('/content/drive')"
      ],
      "execution_count": null,
      "outputs": [
        {
          "output_type": "stream",
          "text": [
            "Mounted at /content/drive\n"
          ],
          "name": "stdout"
        }
      ]
    },
    {
      "cell_type": "code",
      "metadata": {
        "colab": {
          "base_uri": "https://localhost:8080/",
          "height": 204
        },
        "id": "1KI1fBAkz8UN",
        "outputId": "7cfb5263-7c1b-40a0-d81e-2c2b68d43458"
      },
      "source": [
        "df_train=pd.read_csv('/content/drive/MyDrive/linkprediction/prl/largest_scc_edges_2015.csv')\n",
        "#df_train=pd.read_csv('/content/drive/MyDrive/linkprediction/jmlr/largest_scc_edges_2015.csv')\n",
        "df_train.head()"
      ],
      "execution_count": null,
      "outputs": [
        {
          "output_type": "execute_result",
          "data": {
            "text/html": [
              "<div>\n",
              "<style scoped>\n",
              "    .dataframe tbody tr th:only-of-type {\n",
              "        vertical-align: middle;\n",
              "    }\n",
              "\n",
              "    .dataframe tbody tr th {\n",
              "        vertical-align: top;\n",
              "    }\n",
              "\n",
              "    .dataframe thead th {\n",
              "        text-align: right;\n",
              "    }\n",
              "</style>\n",
              "<table border=\"1\" class=\"dataframe\">\n",
              "  <thead>\n",
              "    <tr style=\"text-align: right;\">\n",
              "      <th></th>\n",
              "      <th>Source</th>\n",
              "      <th>Destination</th>\n",
              "    </tr>\n",
              "  </thead>\n",
              "  <tbody>\n",
              "    <tr>\n",
              "      <th>0</th>\n",
              "      <td>1981117050</td>\n",
              "      <td>121916871</td>\n",
              "    </tr>\n",
              "    <tr>\n",
              "      <th>1</th>\n",
              "      <td>1981117050</td>\n",
              "      <td>1861140251</td>\n",
              "    </tr>\n",
              "    <tr>\n",
              "      <th>2</th>\n",
              "      <td>1981117050</td>\n",
              "      <td>1981117050</td>\n",
              "    </tr>\n",
              "    <tr>\n",
              "      <th>3</th>\n",
              "      <td>1981117050</td>\n",
              "      <td>2036223355</td>\n",
              "    </tr>\n",
              "    <tr>\n",
              "      <th>4</th>\n",
              "      <td>1981117050</td>\n",
              "      <td>2096396845</td>\n",
              "    </tr>\n",
              "  </tbody>\n",
              "</table>\n",
              "</div>"
            ],
            "text/plain": [
              "       Source  Destination\n",
              "0  1981117050    121916871\n",
              "1  1981117050   1861140251\n",
              "2  1981117050   1981117050\n",
              "3  1981117050   2036223355\n",
              "4  1981117050   2096396845"
            ]
          },
          "metadata": {
            "tags": []
          },
          "execution_count": 3
        }
      ]
    },
    {
      "cell_type": "code",
      "metadata": {
        "colab": {
          "base_uri": "https://localhost:8080/"
        },
        "id": "Lag5BzEYcN6W",
        "outputId": "6a9ed362-7f1c-40bf-f03d-b649e1a76c5e"
      },
      "source": [
        "len(df_train)"
      ],
      "execution_count": null,
      "outputs": [
        {
          "output_type": "execute_result",
          "data": {
            "text/plain": [
              "59089"
            ]
          },
          "metadata": {
            "tags": []
          },
          "execution_count": 4
        }
      ]
    },
    {
      "cell_type": "code",
      "metadata": {
        "id": "ALvf2r_scN94"
      },
      "source": [
        "df_train.to_csv('/content/drive/MyDrive/linkprediction/prl/train_woheader.csv',header=False,index=False)\n",
        "#df_train.to_csv('/content/drive/MyDrive/linkprediction/jmlr/train_woheader.csv',header=False,index=False)"
      ],
      "execution_count": null,
      "outputs": []
    },
    {
      "cell_type": "code",
      "metadata": {
        "id": "VeR1o7TEcOAf"
      },
      "source": [
        "df_test=pd.read_csv('/content/drive/MyDrive/linkprediction/prl/largest_scc_edges_v2015_e2020.csv')\n",
        "#df_test=pd.read_csv('/content/drive/MyDrive/linkprediction/jmlr/largest_scc_edges_v2015_e2020.csv')"
      ],
      "execution_count": null,
      "outputs": []
    },
    {
      "cell_type": "code",
      "metadata": {
        "colab": {
          "base_uri": "https://localhost:8080/"
        },
        "id": "7zzsCYRPemQb",
        "outputId": "1f184151-c89f-40bb-b588-55895b366ffc"
      },
      "source": [
        "len(df_test)"
      ],
      "execution_count": null,
      "outputs": [
        {
          "output_type": "execute_result",
          "data": {
            "text/plain": [
              "73142"
            ]
          },
          "metadata": {
            "tags": []
          },
          "execution_count": 7
        }
      ]
    },
    {
      "cell_type": "code",
      "metadata": {
        "colab": {
          "base_uri": "https://localhost:8080/",
          "height": 204
        },
        "id": "DU9jnEW1emgL",
        "outputId": "2531cb8a-f5bf-4e1c-fea8-205400252faa"
      },
      "source": [
        "df_test.to_csv('/content/drive/MyDrive/linkprediction/prl/test_woheader.csv',header=False,index=False)\n",
        "#df_test.to_csv('/content/drive/MyDrive/linkprediction/jmlr/test_woheader.csv',header=False,index=False)\n",
        "df_test.head()"
      ],
      "execution_count": null,
      "outputs": [
        {
          "output_type": "execute_result",
          "data": {
            "text/html": [
              "<div>\n",
              "<style scoped>\n",
              "    .dataframe tbody tr th:only-of-type {\n",
              "        vertical-align: middle;\n",
              "    }\n",
              "\n",
              "    .dataframe tbody tr th {\n",
              "        vertical-align: top;\n",
              "    }\n",
              "\n",
              "    .dataframe thead th {\n",
              "        text-align: right;\n",
              "    }\n",
              "</style>\n",
              "<table border=\"1\" class=\"dataframe\">\n",
              "  <thead>\n",
              "    <tr style=\"text-align: right;\">\n",
              "      <th></th>\n",
              "      <th>Source</th>\n",
              "      <th>Destination</th>\n",
              "    </tr>\n",
              "  </thead>\n",
              "  <tbody>\n",
              "    <tr>\n",
              "      <th>0</th>\n",
              "      <td>2624972305</td>\n",
              "      <td>2044331582</td>\n",
              "    </tr>\n",
              "    <tr>\n",
              "      <th>1</th>\n",
              "      <td>2624972305</td>\n",
              "      <td>2098767124</td>\n",
              "    </tr>\n",
              "    <tr>\n",
              "      <th>2</th>\n",
              "      <td>2505713308</td>\n",
              "      <td>1939713825</td>\n",
              "    </tr>\n",
              "    <tr>\n",
              "      <th>3</th>\n",
              "      <td>2505713308</td>\n",
              "      <td>2031420067</td>\n",
              "    </tr>\n",
              "    <tr>\n",
              "      <th>4</th>\n",
              "      <td>2505713308</td>\n",
              "      <td>2081156236</td>\n",
              "    </tr>\n",
              "  </tbody>\n",
              "</table>\n",
              "</div>"
            ],
            "text/plain": [
              "       Source  Destination\n",
              "0  2624972305   2044331582\n",
              "1  2624972305   2098767124\n",
              "2  2505713308   1939713825\n",
              "3  2505713308   2031420067\n",
              "4  2505713308   2081156236"
            ]
          },
          "metadata": {
            "tags": []
          },
          "execution_count": 8
        }
      ]
    },
    {
      "cell_type": "code",
      "metadata": {
        "id": "DGa9xz1Oemj8",
        "colab": {
          "base_uri": "https://localhost:8080/"
        },
        "outputId": "ac16cd67-21a7-453a-f18d-70d7ebb5b58d"
      },
      "source": [
        "train_graph=nx.read_edgelist('/content/drive/MyDrive/linkprediction/prl/train_woheader.csv',delimiter=',',create_using=nx.DiGraph(),nodetype=int)\n",
        "#train_graph=nx.read_edgelist('/content/drive/MyDrive/linkprediction/jmlr/train_woheader.csv',delimiter=',',create_using=nx.DiGraph(),nodetype=int)\n",
        "print(nx.info(train_graph))\n",
        "test_graph=nx.read_edgelist('/content/drive/MyDrive/linkprediction/prl/test_woheader.csv',delimiter=',',create_using=nx.DiGraph(),nodetype=int)\n",
        "#test_graph=nx.read_edgelist('/content/drive/MyDrive/linkprediction/jmlr/test_woheader.csv',delimiter=',',create_using=nx.DiGraph(),nodetype=int)\n",
        "print(nx.info(test_graph))"
      ],
      "execution_count": null,
      "outputs": [
        {
          "output_type": "stream",
          "text": [
            "Name: \n",
            "Type: DiGraph\n",
            "Number of nodes: 4187\n",
            "Number of edges: 59089\n",
            "Average in degree:  14.1125\n",
            "Average out degree:  14.1125\n",
            "Name: \n",
            "Type: DiGraph\n",
            "Number of nodes: 4715\n",
            "Number of edges: 73142\n",
            "Average in degree:  15.5126\n",
            "Average out degree:  15.5126\n"
          ],
          "name": "stdout"
        }
      ]
    },
    {
      "cell_type": "code",
      "metadata": {
        "colab": {
          "base_uri": "https://localhost:8080/"
        },
        "id": "hFMHftl4emmZ",
        "outputId": "e6cfdd49-9040-42c8-d90a-82753de4799f"
      },
      "source": [
        "test_vertices_set=list(test_graph.nodes())\n",
        "train_vertices_set=list(train_graph.nodes())\n",
        "print(len(test_vertices_set))"
      ],
      "execution_count": null,
      "outputs": [
        {
          "output_type": "stream",
          "text": [
            "4715\n"
          ],
          "name": "stdout"
        }
      ]
    },
    {
      "cell_type": "code",
      "metadata": {
        "id": "2uhHaurc1FvC"
      },
      "source": [
        "#Randomly selecting missing edges for train graph\n",
        "#getting all set of edges\n",
        "#r = csv.reader(open('/content/drive/MyDrive/linkprediction/jmlr/train_woheader.csv','r'))\n",
        "r = csv.reader(open('/content/drive/MyDrive/linkprediction/prl/train_woheader.csv','r'))\n",
        "\n",
        "#the dict will contain a tuple of 2 nodes as key and the value will be 1 if the nodes are connected else -1\n",
        "edges = dict()\n",
        "for edge in r:\n",
        "\tedges[(edge[0], edge[1])] = 1\n",
        "    \n",
        "missing_links_train_graph = set([])\n",
        "while (len(missing_links_train_graph)<len(df_train)):\n",
        "\ta=random.randint(1, len(test_vertices_set))\n",
        "\tb=random.randint(1, len(test_vertices_set))\n",
        "\ttmp = edges.get((a,b),-1)\n",
        "\tif tmp == -1 and a!=b:\n",
        "\t\t\t\tmissing_links_train_graph.add((a,b))\n",
        "\telse:\n",
        "\t\tcontinue\n",
        "\n"
      ],
      "execution_count": null,
      "outputs": []
    },
    {
      "cell_type": "code",
      "metadata": {
        "id": "Gha3MA2xRwcP"
      },
      "source": [
        "#Randomly selecting missing edges for test graph\n",
        "#getting all set of edges\n",
        "#r = csv.reader(open('/content/drive/MyDrive/linkprediction/jmlr/test_woheader.csv','r'))\n",
        "r = csv.reader(open('/content/drive/MyDrive/linkprediction/prl/test_woheader.csv','r'))\n",
        "\n",
        "#the dict will contain a tuple of 2 nodes as key and the value will be 1 if the nodes are connected else -1\n",
        "edges = dict()\n",
        "for edge in r:\n",
        "\tedges[(edge[0], edge[1])] = 1\n",
        "    \n",
        "missing_links_test_graph = set([])\n",
        "while (len(missing_links_test_graph)<len(df_test)):\n",
        "\ta=random.randint(1, len(test_vertices_set))\n",
        "\tb=random.randint(1, len(test_vertices_set))\n",
        "\ttmp = edges.get((a,b),-1)\n",
        "\tif tmp == -1 and a!=b:\n",
        "\t\t\t\tmissing_links_test_graph.add((a,b))\n",
        "\telse:\n",
        "\t\tcontinue\n",
        "\n"
      ],
      "execution_count": null,
      "outputs": []
    },
    {
      "cell_type": "code",
      "metadata": {
        "id": "SsrUYRX5OAOk"
      },
      "source": [
        "#Randomly Selecting missing edges for train graph looking at their hop neighbors\n",
        "r = csv.reader(open('/content/drive/MyDrive/linkprediction/prl/train_woheader.csv','r'))\n",
        "#r = csv.reader(open('/content/drive/MyDrive/linkprediction/jmlr/train_woheader.csv','r'))\n",
        "\n",
        "#the dict will contain a tuple of 2 nodes as key and the value will be 1 if the nodes are connected else -1\n",
        "edges = dict()\n",
        "for edge in r:\n",
        "\tedges[(edge[0], edge[1])] = 1\n",
        "    \n",
        "missing_links_train_graph = set([])\n",
        "while (len(missing_links_train_graph)<len(df_train)):\n",
        "\ta=random.randint(1, len(test_vertices_set))\n",
        "\tb=random.randint(1, len(test_vertices_set))\n",
        "\ttmp = edges.get((a,b),-1)\n",
        "\tif tmp == -1 and a!=b:\n",
        "\t\ttry:\n",
        "            # adding points who less likely to be friends\n",
        "\t\t\tif nx.shortest_path_length(g,source=a,target=b) > 2: \n",
        "\n",
        "\t\t\t\tmissing_links_train_graph.add((a,b))\n",
        "\t\t\telse:\n",
        "\t\t\t\tcontinue  \n",
        "\t\texcept:  \n",
        "\t\t\t\tmissing_links_train_graph.add((a,b))              \n",
        "\telse:\n",
        "\t\tcontinue"
      ],
      "execution_count": null,
      "outputs": []
    },
    {
      "cell_type": "code",
      "metadata": {
        "id": "IFrPOmtUSeoi"
      },
      "source": [
        "#Randomly Selecting missing edges for test graph looking at their hop neighbors\n",
        "r = csv.reader(open('/content/drive/MyDrive/linkprediction/prl/test_woheader.csv','r'))\n",
        "#r = csv.reader(open('/content/drive/MyDrive/linkprediction/jmlr/test_woheader.csv','r'))\n",
        "\n",
        "#the dict will contain a tuple of 2 nodes as key and the value will be 1 if the nodes are connected else -1\n",
        "edges = dict()\n",
        "for edge in r:\n",
        "\tedges[(edge[0], edge[1])] = 1\n",
        "    \n",
        "missing_links_train_graph = set([])\n",
        "while (len(missing_links_test_graph)<len(df_test)):\n",
        "\ta=random.randint(1, len(test_vertices_set))\n",
        "\tb=random.randint(1, len(test_vertices_set))\n",
        "\ttmp = edges.get((a,b),-1)\n",
        "\tif tmp == -1 and a!=b:\n",
        "\t\ttry:\n",
        "            # adding points who less likely to be friends\n",
        "\t\t\tif nx.shortest_path_length(g,source=a,target=b) > 2: \n",
        "\n",
        "\t\t\t\tmissing_links_test_graph.add((a,b))\n",
        "\t\t\telse:\n",
        "\t\t\t\tcontinue  \n",
        "\t\texcept:  \n",
        "\t\t\t\tmissing_links_test_graph.add((a,b))              \n",
        "\telse:\n",
        "\t\tcontinue"
      ],
      "execution_count": null,
      "outputs": []
    },
    {
      "cell_type": "code",
      "metadata": {
        "id": "sdA2kexTgnlC"
      },
      "source": [
        "newly_formed_edges=[]\n",
        "\n",
        "for u in test_vertices_set:\n",
        "    for v in test_vertices_set:\n",
        "        if u!=v and train_graph.has_edge(u,v)==False:\n",
        "          \n",
        "          if test_graph.has_edge(u,v)==True:\n",
        "            edge=[]\n",
        "            edge.append(u)\n",
        "            edge.append(v)\n",
        "            newly_formed_edges.append(edge)\n",
        "   "
      ],
      "execution_count": null,
      "outputs": []
    },
    {
      "cell_type": "code",
      "metadata": {
        "colab": {
          "base_uri": "https://localhost:8080/"
        },
        "id": "pHBHdH14yDzB",
        "outputId": "8ae64568-af70-4fac-ce59-ee78d1a6668f"
      },
      "source": [
        "print(len(newly_formed_edges))\n",
        "print(len(missing_links_train_graph))\n",
        "print(len(missing_links_test_graph))\n",
        "#print(c)"
      ],
      "execution_count": null,
      "outputs": [
        {
          "output_type": "stream",
          "text": [
            "13787\n",
            "59089\n",
            "73142\n"
          ],
          "name": "stdout"
        }
      ]
    },
    {
      "cell_type": "code",
      "metadata": {
        "id": "ENNjwlyuRWE6"
      },
      "source": [
        "#with open('/content/drive/MyDrive/linkprediction/jmlr/newly_formed_links_25477.pkl','wb') as f:\n",
        "with open('/content/drive/MyDrive/linkprediction/prl/newly_formed_links_25477.pkl','wb') as f:\n",
        "  pickle.dump(newly_formed_edges,f)"
      ],
      "execution_count": null,
      "outputs": []
    },
    {
      "cell_type": "code",
      "metadata": {
        "id": "UkqPtaMzempT"
      },
      "source": [
        "x_train_neg = pd.DataFrame(list(missing_links_train_graph), columns=['Source', 'Destination'])\n",
        "#x_train_pos = pd.read_csv('/content/drive/MyDrive/linkprediction/jmlr/largest_scc_edges_2015.csv')\n",
        "x_train_pos = pd.read_csv('/content/drive/MyDrive/linkprediction/prl/largest_scc_edges_2015.csv')\n",
        "y_train_pos = np.ones(len(x_train_pos))\n",
        "y_train_neg = np.zeros(len(x_train_neg))"
      ],
      "execution_count": null,
      "outputs": []
    },
    {
      "cell_type": "code",
      "metadata": {
        "id": "kdk36lIyemsX"
      },
      "source": [
        "x_test_neg=pd.DataFrame(list(missing_links_test_graph), columns=['Source', 'Destination'])\n",
        "x_test_pos = pd.DataFrame(list(newly_formed_edges), columns=['Source', 'Destination'])\n",
        "y_test_pos = np.ones(len(x_test_pos))\n",
        "y_test_neg = np.zeros(len(x_test_neg))"
      ],
      "execution_count": null,
      "outputs": []
    },
    {
      "cell_type": "code",
      "metadata": {
        "id": "e_WaQhF-emua"
      },
      "source": [
        "#x_train_pos.to_csv('/content/drive/MyDrive/linkprediction/jmlr/train_pos_after_eda.csv',header=False,index=False)\n",
        "x_train_pos.to_csv('/content/drive/MyDrive/linkprediction/prl/train_pos_after_eda.csv',header=False,index=False)\n",
        "#x_test_pos.to_csv('/content/drive/MyDrive/linkprediction/jmlr/test_pos_after_eda.csv',header=False, index=False)\n",
        "x_test_pos.to_csv('/content/drive/MyDrive/linkprediction/prl/test_pos_after_eda.csv',header=False, index=False)\n",
        "#x_train_neg.to_csv('/content/drive/MyDrive/linkprediction/jmlr/train_neg_after_eda.csv',header=False, index=False)\n",
        "x_train_neg.to_csv('/content/drive/MyDrive/linkprediction/prl/train_neg_after_eda.csv',header=False, index=False)\n",
        "#x_test_neg.to_csv('/content/drive/MyDrive/linkprediction/jmlr/test_neg_after_eda.csv',header=False, index=False)\n",
        "x_test_neg.to_csv('/content/drive/MyDrive/linkprediction/prl/test_neg_after_eda.csv',header=False, index=False)"
      ],
      "execution_count": null,
      "outputs": []
    },
    {
      "cell_type": "code",
      "metadata": {
        "id": "PpoU6Meuemww"
      },
      "source": [
        "X_train = x_train_pos.append(x_train_neg,ignore_index=True)\n",
        "y_train = np.concatenate((y_train_pos,y_train_neg))\n",
        "X_test = x_test_pos.append(x_test_neg,ignore_index=True)\n",
        "y_test = np.concatenate((y_test_pos,y_test_neg)) "
      ],
      "execution_count": null,
      "outputs": []
    },
    {
      "cell_type": "code",
      "metadata": {
        "id": "BbXbcfw-emzm"
      },
      "source": [
        "#X_train.to_csv('/content/drive/MyDrive/linkprediction/jmlr/train_after_eda.csv',header=False,index=False)\n",
        "X_train.to_csv('/content/drive/MyDrive/linkprediction/prl/train_after_eda.csv',header=False,index=False)\n",
        "#X_test.to_csv('/content/drive/MyDrive/linkprediction/jmlr/test_after_eda.csv',header=False,index=False)\n",
        "X_test.to_csv('/content/drive/MyDrive/linkprediction/prl/test_after_eda.csv',header=False,index=False)\n",
        "#pd.DataFrame(y_train.astype(int)).to_csv('/content/drive/MyDrive/linkprediction/jmlr/train_y.csv',header=False,index=False)\n",
        "pd.DataFrame(y_train.astype(int)).to_csv('/content/drive/MyDrive/linkprediction/prl/train_y.csv',header=False,index=False)\n",
        "#pd.DataFrame(y_test.astype(int)).to_csv('/content/drive/MyDrive/linkprediction/jmlr/test_y.csv',header=False,index=False)\n",
        "pd.DataFrame(y_test.astype(int)).to_csv('/content/drive/MyDrive/linkprediction/prl/test_y.csv',header=False,index=False)"
      ],
      "execution_count": null,
      "outputs": []
    },
    {
      "cell_type": "code",
      "metadata": {
        "colab": {
          "base_uri": "https://localhost:8080/"
        },
        "id": "MjvStua-em2Q",
        "outputId": "b1c96b33-1802-4c4d-f53c-d3373ff1eac1"
      },
      "source": [
        "len(X_train)\n"
      ],
      "execution_count": null,
      "outputs": [
        {
          "output_type": "execute_result",
          "data": {
            "text/plain": [
              "118178"
            ]
          },
          "metadata": {
            "tags": []
          },
          "execution_count": 28
        }
      ]
    },
    {
      "cell_type": "code",
      "metadata": {
        "colab": {
          "base_uri": "https://localhost:8080/"
        },
        "id": "GnsTMjdjmF1-",
        "outputId": "88b2c97e-676e-4a9d-8aed-7774e4d662e7"
      },
      "source": [
        "len(X_test)"
      ],
      "execution_count": null,
      "outputs": [
        {
          "output_type": "execute_result",
          "data": {
            "text/plain": [
              "86929"
            ]
          },
          "metadata": {
            "tags": []
          },
          "execution_count": 29
        }
      ]
    },
    {
      "cell_type": "code",
      "metadata": {
        "colab": {
          "base_uri": "https://localhost:8080/"
        },
        "id": "Cl98zw4dem5D",
        "outputId": "989dd4d0-3706-429a-97f7-991c1f67489a"
      },
      "source": [
        "#train_graph=nx.read_edgelist('/content/drive/MyDrive/linkprediction/jmlr/train_pos_after_eda.csv',delimiter=',',create_using=nx.DiGraph(),nodetype=int)\n",
        "train_graph=nx.read_edgelist('/content/drive/MyDrive/linkprediction/prl/train_pos_after_eda.csv',delimiter=',',create_using=nx.DiGraph(),nodetype=int)\n",
        "print(nx.info(train_graph))"
      ],
      "execution_count": null,
      "outputs": [
        {
          "output_type": "stream",
          "text": [
            "Name: \n",
            "Type: DiGraph\n",
            "Number of nodes: 4187\n",
            "Number of edges: 59089\n",
            "Average in degree:  14.1125\n",
            "Average out degree:  14.1125\n"
          ],
          "name": "stdout"
        }
      ]
    },
    {
      "cell_type": "code",
      "metadata": {
        "colab": {
          "base_uri": "https://localhost:8080/",
          "height": 128
        },
        "id": "Eup68GMdem75",
        "outputId": "cc31f393-a7c6-4fcc-a82f-59be20e79fbc"
      },
      "source": [
        "#df_final_train = pd.read_csv('/content/drive/MyDrive/linkprediction/jmlr/train_after_eda.csv', names=['Source', 'Destination'])\n",
        "df_final_train = pd.read_csv('/content/drive/MyDrive/linkprediction/prl/train_after_eda.csv', names=['Source', 'Destination'])\n",
        "#df_final_train['indicator_link'] = pd.read_csv('/content/drive/MyDrive/linkprediction/jmlr/train_y.csv', names=['indicator_link'])\n",
        "df_final_train['indicator_link'] = pd.read_csv('/content/drive/MyDrive/linkprediction/prl/train_y.csv', names=['indicator_link'])\n",
        "print(\"Our train matrix size \",df_final_train.shape)\n",
        "df_final_train.head(2)"
      ],
      "execution_count": null,
      "outputs": [
        {
          "output_type": "stream",
          "text": [
            "Our train matrix size  (118178, 3)\n"
          ],
          "name": "stdout"
        },
        {
          "output_type": "execute_result",
          "data": {
            "text/html": [
              "<div>\n",
              "<style scoped>\n",
              "    .dataframe tbody tr th:only-of-type {\n",
              "        vertical-align: middle;\n",
              "    }\n",
              "\n",
              "    .dataframe tbody tr th {\n",
              "        vertical-align: top;\n",
              "    }\n",
              "\n",
              "    .dataframe thead th {\n",
              "        text-align: right;\n",
              "    }\n",
              "</style>\n",
              "<table border=\"1\" class=\"dataframe\">\n",
              "  <thead>\n",
              "    <tr style=\"text-align: right;\">\n",
              "      <th></th>\n",
              "      <th>Source</th>\n",
              "      <th>Destination</th>\n",
              "      <th>indicator_link</th>\n",
              "    </tr>\n",
              "  </thead>\n",
              "  <tbody>\n",
              "    <tr>\n",
              "      <th>0</th>\n",
              "      <td>1981117050</td>\n",
              "      <td>121916871</td>\n",
              "      <td>1</td>\n",
              "    </tr>\n",
              "    <tr>\n",
              "      <th>1</th>\n",
              "      <td>1981117050</td>\n",
              "      <td>1861140251</td>\n",
              "      <td>1</td>\n",
              "    </tr>\n",
              "  </tbody>\n",
              "</table>\n",
              "</div>"
            ],
            "text/plain": [
              "       Source  Destination  indicator_link\n",
              "0  1981117050    121916871               1\n",
              "1  1981117050   1861140251               1"
            ]
          },
          "metadata": {
            "tags": []
          },
          "execution_count": 31
        }
      ]
    },
    {
      "cell_type": "code",
      "metadata": {
        "colab": {
          "base_uri": "https://localhost:8080/",
          "height": 128
        },
        "id": "hosoH27ZenAW",
        "outputId": "79444a6a-e2f7-494e-db74-da60ce4f2fb0"
      },
      "source": [
        "#df_final_test = pd.read_csv('/content/drive/MyDrive/linkprediction/jmlr/test_after_eda.csv', names=['Source', 'Destination'])\n",
        "df_final_test = pd.read_csv('/content/drive/MyDrive/linkprediction/prl/test_after_eda.csv', names=['Source', 'Destination'])\n",
        "#df_final_test['indicator_link'] = pd.read_csv('/content/drive/MyDrive/linkprediction/jmlr/test_y.csv', names=['indicator_link'])\n",
        "df_final_test['indicator_link'] = pd.read_csv('/content/drive/MyDrive/linkprediction/prl/test_y.csv', names=['indicator_link'])\n",
        "print(\"Our test matrix size \",df_final_test.shape)\n",
        "df_final_test.head(2)"
      ],
      "execution_count": null,
      "outputs": [
        {
          "output_type": "stream",
          "text": [
            "Our test matrix size  (86929, 3)\n"
          ],
          "name": "stdout"
        },
        {
          "output_type": "execute_result",
          "data": {
            "text/html": [
              "<div>\n",
              "<style scoped>\n",
              "    .dataframe tbody tr th:only-of-type {\n",
              "        vertical-align: middle;\n",
              "    }\n",
              "\n",
              "    .dataframe tbody tr th {\n",
              "        vertical-align: top;\n",
              "    }\n",
              "\n",
              "    .dataframe thead th {\n",
              "        text-align: right;\n",
              "    }\n",
              "</style>\n",
              "<table border=\"1\" class=\"dataframe\">\n",
              "  <thead>\n",
              "    <tr style=\"text-align: right;\">\n",
              "      <th></th>\n",
              "      <th>Source</th>\n",
              "      <th>Destination</th>\n",
              "      <th>indicator_link</th>\n",
              "    </tr>\n",
              "  </thead>\n",
              "  <tbody>\n",
              "    <tr>\n",
              "      <th>0</th>\n",
              "      <td>2111117978</td>\n",
              "      <td>2144833106</td>\n",
              "      <td>1</td>\n",
              "    </tr>\n",
              "    <tr>\n",
              "      <th>1</th>\n",
              "      <td>2111678102</td>\n",
              "      <td>2088986780</td>\n",
              "      <td>1</td>\n",
              "    </tr>\n",
              "  </tbody>\n",
              "</table>\n",
              "</div>"
            ],
            "text/plain": [
              "       Source  Destination  indicator_link\n",
              "0  2111117978   2144833106               1\n",
              "1  2111678102   2088986780               1"
            ]
          },
          "metadata": {
            "tags": []
          },
          "execution_count": 32
        }
      ]
    },
    {
      "cell_type": "code",
      "metadata": {
        "id": "TeKsdyWZfVnc"
      },
      "source": [
        "def jaccard_for_followees(a,b):\n",
        "    try:\n",
        "        if len(set(train_graph.successors(a))) == 0  | len(set(train_graph.successors(b))) == 0:\n",
        "            return 0\n",
        "        sim = (len(set(train_graph.successors(a)).intersection(set(train_graph.successors(b)))))/\\\n",
        "                                    (len(set(train_graph.successors(a)).union(set(train_graph.successors(b)))))\n",
        "    except:\n",
        "        return 0\n",
        "    return sim"
      ],
      "execution_count": null,
      "outputs": []
    },
    {
      "cell_type": "code",
      "metadata": {
        "id": "vg0d9ikWfVqI"
      },
      "source": [
        "def jaccard_for_followers(a,b):\n",
        "    try:\n",
        "        if len(set(train_graph.predecessors(a))) == 0  | len(set(g.predecessors(b))) == 0:\n",
        "            return 0\n",
        "        sim = (len(set(train_graph.predecessors(a)).intersection(set(train_graph.predecessors(b)))))/\\\n",
        "                                 (len(set(train_graph.predecessors(a)).union(set(train_graph.predecessors(b)))))\n",
        "        return sim\n",
        "    except:\n",
        "        return 0"
      ],
      "execution_count": null,
      "outputs": []
    },
    {
      "cell_type": "code",
      "metadata": {
        "id": "Bcmt3bNNfVtJ"
      },
      "source": [
        "def cosine_for_followees(a,b):\n",
        "    try:\n",
        "        if len(set(train_graph.successors(a))) == 0  | len(set(train_graph.successors(b))) == 0:\n",
        "            return 0\n",
        "        sim = (len(set(train_graph.successors(a)).intersection(set(train_graph.successors(b)))))/\\\n",
        "                                    (math.sqrt(len(set(train_graph.successors(a)))*len((set(train_graph.successors(b))))))\n",
        "        return sim\n",
        "    except:\n",
        "        return 0"
      ],
      "execution_count": null,
      "outputs": []
    },
    {
      "cell_type": "code",
      "metadata": {
        "id": "SskKLl6lfVwt"
      },
      "source": [
        "def cosine_for_followers(a,b):\n",
        "    try:\n",
        "        \n",
        "        if len(set(train_graph.predecessors(a))) == 0  | len(set(train_graph.predecessors(b))) == 0:\n",
        "            return 0\n",
        "        sim = (len(set(train_graph.predecessors(a)).intersection(set(train_graph.predecessors(b)))))/\\\n",
        "                                     (math.sqrt(len(set(train_graph.predecessors(a))))*(len(set(train_graph.predecessors(b)))))\n",
        "        return sim\n",
        "    except:\n",
        "        return 0"
      ],
      "execution_count": null,
      "outputs": []
    },
    {
      "cell_type": "code",
      "metadata": {
        "id": "YKknx3rhfVzl"
      },
      "source": [
        "#PAGE RANK\n",
        "pr = nx.pagerank(train_graph, alpha=0.85)\n",
        "#pickle.dump(pr,open('/content/drive/MyDrive/linkprediction/jmlr/page_rank.p','wb'))\n",
        "pickle.dump(pr,open('/content/drive/MyDrive/linkprediction/prl/page_rank.p','wb'))"
      ],
      "execution_count": null,
      "outputs": []
    },
    {
      "cell_type": "code",
      "metadata": {
        "id": "vRlrGjK4fV13"
      },
      "source": [
        "mean_pr=float(sum(pr.values())) / len(pr)"
      ],
      "execution_count": null,
      "outputs": []
    },
    {
      "cell_type": "code",
      "metadata": {
        "colab": {
          "base_uri": "https://localhost:8080/"
        },
        "id": "EyVYHIxffV4W",
        "outputId": "05c39b4e-0ee8-4a70-a965-99ae933deb4b"
      },
      "source": [
        "print('min',pr[min(pr, key=pr.get)])\n",
        "print('max',pr[max(pr, key=pr.get)])\n",
        "print('mean',float(sum(pr.values())) / len(pr))"
      ],
      "execution_count": null,
      "outputs": [
        {
          "output_type": "stream",
          "text": [
            "min 3.6249356026728435e-05\n",
            "max 0.01864911949411549\n",
            "mean 0.00023883448770002435\n"
          ],
          "name": "stdout"
        }
      ]
    },
    {
      "cell_type": "code",
      "metadata": {
        "id": "lf22YsrjfV6p"
      },
      "source": [
        "#SHORTEST PATH\n",
        "def compute_shortest_path_length(a,b):\n",
        "    p=-1\n",
        "    try:\n",
        "        if train_graph.has_edge(a,b):\n",
        "            train_graph.remove_edge(a,b)\n",
        "            p= nx.shortest_path_length(train_graph,source=a,target=b)\n",
        "            train_graph.add_edge(a,b)\n",
        "        else:\n",
        "            p= nx.shortest_path_length(train_graph,source=a,target=b)\n",
        "        return p\n",
        "    except:\n",
        "        return -1"
      ],
      "execution_count": null,
      "outputs": []
    },
    {
      "cell_type": "code",
      "metadata": {
        "id": "n_xThf8MfV9d"
      },
      "source": [
        "#WEAKLY CONNECTED COMPONENTS\n",
        "wcc=list(nx.weakly_connected_components(train_graph))\n",
        "def belongs_to_same_wcc(a,b):\n",
        "    index = []\n",
        "    if train_graph.has_edge(b,a):\n",
        "        return 1\n",
        "    if train_graph.has_edge(a,b):\n",
        "            for i in wcc:\n",
        "                if a in i:\n",
        "                    index= i\n",
        "                    break\n",
        "            if (b in index):\n",
        "                train_graph.remove_edge(a,b)\n",
        "                if compute_shortest_path_length(a,b)==-1:\n",
        "                    train_graph.add_edge(a,b)\n",
        "                    return 0\n",
        "                else:\n",
        "                    train_graph.add_edge(a,b)\n",
        "                    return 1\n",
        "            else:\n",
        "                return 0\n",
        "    else:\n",
        "            for i in wcc:\n",
        "                if a in i:\n",
        "                    index= i\n",
        "                    break\n",
        "            if(b in index):\n",
        "                return 1\n",
        "            else:\n",
        "                return 0"
      ],
      "execution_count": null,
      "outputs": []
    },
    {
      "cell_type": "code",
      "metadata": {
        "id": "IiuwTow4fV_Z"
      },
      "source": [
        "#ADAMIC ADAR\n",
        "def calc_adar_in(a,b):\n",
        "    sum=0\n",
        "    try:\n",
        "        return sum([1.0/math.log(graph.degree(v)) for v in set(graph.neighbors(a)).intersection(set(graph.neighbors(b)))])\n",
        "    except:\n",
        "        return 0"
      ],
      "execution_count": null,
      "outputs": []
    },
    {
      "cell_type": "code",
      "metadata": {
        "id": "Bg_AH-PlfWCb"
      },
      "source": [
        "def follows_back(a,b):\n",
        "    if train_graph.has_edge(b,a):\n",
        "        return 1\n",
        "    else:\n",
        "        return 0"
      ],
      "execution_count": null,
      "outputs": []
    },
    {
      "cell_type": "code",
      "metadata": {
        "id": "nasUkA6afWLv"
      },
      "source": [
        "#KATZ\n",
        "katz = nx.katz.katz_centrality(train_graph,alpha=0.005,beta=1)\n",
        "pickle.dump(katz,open('/content/drive/MyDrive/linkprediction/prl/katz.p','wb'))\n",
        "#pickle.dump(katz,open('/content/drive/MyDrive/linkprediction/jmlr/katz.p','wb'))"
      ],
      "execution_count": null,
      "outputs": []
    },
    {
      "cell_type": "code",
      "metadata": {
        "id": "aG6SyRTRfWOV"
      },
      "source": [
        "mean_katz=0.0007483801279873423"
      ],
      "execution_count": null,
      "outputs": []
    },
    {
      "cell_type": "code",
      "metadata": {
        "colab": {
          "base_uri": "https://localhost:8080/"
        },
        "id": "1FX6NUV-fWRZ",
        "outputId": "7ec48c3a-0f4e-4c54-cdfe-54ed6afb1679"
      },
      "source": [
        "print('min',katz[min(katz, key=katz.get)])\n",
        "print('max',katz[max(katz, key=katz.get)])\n",
        "print('mean',float(sum(katz.values())) / len(katz))"
      ],
      "execution_count": null,
      "outputs": [
        {
          "output_type": "stream",
          "text": [
            "min 0.014211828100511286\n",
            "max 0.08138226581515787\n",
            "mean 0.01526177688336138\n"
          ],
          "name": "stdout"
        }
      ]
    },
    {
      "cell_type": "code",
      "metadata": {
        "id": "s7TxPY10k5Ji",
        "colab": {
          "base_uri": "https://localhost:8080/",
          "height": 214
        },
        "outputId": "7ab53a53-f313-4ce6-91e5-72449de7d262"
      },
      "source": [
        "#HITS\n",
        "hits = nx.hits(train_graph, max_iter=100, tol=1e-08, nstart=None, normalized=True)\n",
        "#pickle.dump(hits,open('/content/drive/MyDrive/linkprediction/jmlr/hits.p','wb'))\n",
        "pickle.dump(hits,open('/content/drive/MyDrive/linkprediction/prl/hits.p','wb'))"
      ],
      "execution_count": null,
      "outputs": [
        {
          "output_type": "error",
          "ename": "FileNotFoundError",
          "evalue": "ignored",
          "traceback": [
            "\u001b[0;31m---------------------------------------------------------------------------\u001b[0m",
            "\u001b[0;31mFileNotFoundError\u001b[0m                         Traceback (most recent call last)",
            "\u001b[0;32m<ipython-input-49-d2c8ae729b79>\u001b[0m in \u001b[0;36m<module>\u001b[0;34m()\u001b[0m\n\u001b[1;32m      1\u001b[0m \u001b[0;31m#HITS\u001b[0m\u001b[0;34m\u001b[0m\u001b[0;34m\u001b[0m\u001b[0;34m\u001b[0m\u001b[0m\n\u001b[1;32m      2\u001b[0m \u001b[0mhits\u001b[0m \u001b[0;34m=\u001b[0m \u001b[0mnx\u001b[0m\u001b[0;34m.\u001b[0m\u001b[0mhits\u001b[0m\u001b[0;34m(\u001b[0m\u001b[0mtrain_graph\u001b[0m\u001b[0;34m,\u001b[0m \u001b[0mmax_iter\u001b[0m\u001b[0;34m=\u001b[0m\u001b[0;36m100\u001b[0m\u001b[0;34m,\u001b[0m \u001b[0mtol\u001b[0m\u001b[0;34m=\u001b[0m\u001b[0;36m1e-08\u001b[0m\u001b[0;34m,\u001b[0m \u001b[0mnstart\u001b[0m\u001b[0;34m=\u001b[0m\u001b[0;32mNone\u001b[0m\u001b[0;34m,\u001b[0m \u001b[0mnormalized\u001b[0m\u001b[0;34m=\u001b[0m\u001b[0;32mTrue\u001b[0m\u001b[0;34m)\u001b[0m\u001b[0;34m\u001b[0m\u001b[0;34m\u001b[0m\u001b[0m\n\u001b[0;32m----> 3\u001b[0;31m \u001b[0mpickle\u001b[0m\u001b[0;34m.\u001b[0m\u001b[0mdump\u001b[0m\u001b[0;34m(\u001b[0m\u001b[0mhits\u001b[0m\u001b[0;34m,\u001b[0m\u001b[0mopen\u001b[0m\u001b[0;34m(\u001b[0m\u001b[0;34m'/content/drive/MyDrive/linkprediction/jmlr/hits.p'\u001b[0m\u001b[0;34m,\u001b[0m\u001b[0;34m'wb'\u001b[0m\u001b[0;34m)\u001b[0m\u001b[0;34m)\u001b[0m\u001b[0;34m\u001b[0m\u001b[0;34m\u001b[0m\u001b[0m\n\u001b[0m\u001b[1;32m      4\u001b[0m \u001b[0mpickle\u001b[0m\u001b[0;34m.\u001b[0m\u001b[0mdump\u001b[0m\u001b[0;34m(\u001b[0m\u001b[0mhits\u001b[0m\u001b[0;34m,\u001b[0m\u001b[0mopen\u001b[0m\u001b[0;34m(\u001b[0m\u001b[0;34m'/content/drive/MyDrive/linkprediction/prl/hits.p'\u001b[0m\u001b[0;34m,\u001b[0m\u001b[0;34m'wb'\u001b[0m\u001b[0;34m)\u001b[0m\u001b[0;34m)\u001b[0m\u001b[0;34m\u001b[0m\u001b[0;34m\u001b[0m\u001b[0m\n",
            "\u001b[0;31mFileNotFoundError\u001b[0m: [Errno 2] No such file or directory: '/content/drive/MyDrive/linkprediction/jmlr/hits.p'"
          ]
        }
      ]
    },
    {
      "cell_type": "code",
      "metadata": {
        "id": "a6oyf_O1k5MU"
      },
      "source": [
        "print('min',hits[0][min(hits[0], key=hits[0].get)])\n",
        "print('max',hits[0][max(hits[0], key=hits[0].get)])\n",
        "print('mean',float(sum(hits[0].values())) / len(hits[0]))"
      ],
      "execution_count": null,
      "outputs": []
    },
    {
      "cell_type": "code",
      "metadata": {
        "id": "rnYrokeik5Pl"
      },
      "source": [
        "start_time = time()\n",
        "#mapping jaccrd followers to train and test data\n",
        "df_final_train['jaccard_citer'] = df_final_train.apply(lambda row:\n",
        "\t\t\t\t\t\t\t\t\t\tjaccard_for_followers(row['Source'],row['Destination']),axis=1)\n",
        "df_final_test['jaccard_citer'] = df_final_test.apply(lambda row:\n",
        "\t\t\t\t\t\t\t\t\t\tjaccard_for_followers(row['Source'],row['Destination']),axis=1)\n",
        "\n",
        "#mapping jaccrd followees to train and test data\n",
        "df_final_train['jaccard_citee'] = df_final_train.apply(lambda row:\n",
        "\t\t\t\t\t\t\t\t\t\tjaccard_for_followees(row['Source'],row['Destination']),axis=1)\n",
        "df_final_test['jaccard_citee'] = df_final_test.apply(lambda row:\n",
        "\t\t\t\t\t\t\t\t\t\tjaccard_for_followees(row['Source'],row['Destination']),axis=1)\n",
        "\n",
        "print(\"--- %s seconds ---\" % (time() - start_time))\n"
      ],
      "execution_count": null,
      "outputs": []
    },
    {
      "cell_type": "code",
      "metadata": {
        "id": "qstmV1Uuk5SR"
      },
      "source": [
        "start_time = time()\n",
        "\t#mapping jaccrd followers to train and test data\n",
        "df_final_train['cosine_distance_citer'] = df_final_train.apply(lambda row:\n",
        "\t\t\t\t\t\t\t\t\t\tcosine_for_followers(row['Source'],row['Destination']),axis=1)\n",
        "df_final_test['cosine_distance_citer'] = df_final_test.apply(lambda row:\n",
        "\t\t\t\t\t\t\t\t\t\tcosine_for_followers(row['Source'],row['Destination']),axis=1)\n",
        "\n",
        "#mapping jaccrd followees to train and test data\n",
        "df_final_train['cosine_distance_citee'] = df_final_train.apply(lambda row:\n",
        "\t\t\t\t\t\t\t\t\t\tcosine_for_followees(row['Source'],row['Destination']),axis=1)\n",
        "df_final_test['cosine_distance_citee'] = df_final_test.apply(lambda row:\n",
        "\t\t\t\t\t\t\t\t\t\tcosine_for_followees(row['Source'],row['Destination']),axis=1)\n",
        "print(\"--- %s seconds ---\" % (time() - start_time))"
      ],
      "execution_count": null,
      "outputs": []
    },
    {
      "cell_type": "code",
      "metadata": {
        "id": "Ks4vl4sXk5cU"
      },
      "source": [
        "def compute_features_stage1(df_final):\n",
        "    #calculating no of followers followees for source and destination\n",
        "    #calculating intersection of followers and followees for source and destination\n",
        "    num_followers_s=[]\n",
        "    num_followees_s=[]\n",
        "    num_followers_d=[]\n",
        "    num_followees_d=[]\n",
        "    inter_followers=[]\n",
        "    inter_followees=[]\n",
        "    for i,row in df_final.iterrows():\n",
        "        try:\n",
        "            s1=set(train_graph.predecessors(row['Source']))\n",
        "            s2=set(train_graph.successors(row['Source']))\n",
        "        except:\n",
        "            s1 = set()\n",
        "            s2 = set()\n",
        "        try:\n",
        "            d1=set(train_graph.predecessors(row['Destination']))\n",
        "            d2=set(train_graph.successors(row['Destination']))\n",
        "        except:\n",
        "            d1 = set()\n",
        "            d2 = set()\n",
        "        num_followers_s.append(len(s1))\n",
        "        num_followees_s.append(len(s2))\n",
        "\n",
        "        num_followers_d.append(len(d1))\n",
        "        num_followees_d.append(len(d2))\n",
        "\n",
        "        inter_followers.append(len(s1.intersection(d1)))\n",
        "        inter_followees.append(len(s2.intersection(d2)))\n",
        "    \n",
        "    return num_followers_s, num_followers_d, num_followees_s, num_followees_d, inter_followers, inter_followees"
      ],
      "execution_count": null,
      "outputs": []
    },
    {
      "cell_type": "code",
      "metadata": {
        "colab": {
          "base_uri": "https://localhost:8080/"
        },
        "id": "qTIkboVZk5fa",
        "outputId": "b8efa36f-47c7-4b35-f768-6fd42ce94922"
      },
      "source": [
        "start_time = time()\n",
        "df_final_train['no_of_citers_source'], df_final_train['no_of_citers_dest'], df_final_train['no_of_citees_source'], df_final_train['no_of_citees_dest'], df_final_train['common_citers'], df_final_train['common_citees']= compute_features_stage1(df_final_train)\n",
        "print(\"--- %s seconds ---\" % (time() - start_time))"
      ],
      "execution_count": null,
      "outputs": [
        {
          "output_type": "stream",
          "text": [
            "--- 12.474296808242798 seconds ---\n"
          ],
          "name": "stdout"
        }
      ]
    },
    {
      "cell_type": "code",
      "metadata": {
        "colab": {
          "base_uri": "https://localhost:8080/"
        },
        "id": "6-qNiEtok5iL",
        "outputId": "4be127e4-961a-4da6-b3e4-8a5517ce48ef"
      },
      "source": [
        "start_time = time()\n",
        "df_final_test['no_of_citers_source'], df_final_test['no_of_citers_dest'], \\\n",
        "df_final_test['no_of_citees_source'], df_final_test['no_of_citees_dest'], \\\n",
        "df_final_test['common_citers'], df_final_test['common_citees']= compute_features_stage1(df_final_test)\n",
        "print(\"--- %s seconds ---\" % (time() - start_time))"
      ],
      "execution_count": null,
      "outputs": [
        {
          "output_type": "stream",
          "text": [
            "--- 7.957977056503296 seconds ---\n"
          ],
          "name": "stdout"
        }
      ]
    },
    {
      "cell_type": "code",
      "metadata": {
        "colab": {
          "base_uri": "https://localhost:8080/"
        },
        "id": "FZsEEnVTk5lR",
        "outputId": "b57de38d-5807-4402-b7d2-9071da07423a"
      },
      "source": [
        "start_time = time()\n",
        "#mapping adar index on train\n",
        "df_final_train['adamic_adar_index'] = df_final_train.apply(lambda row: calc_adar_in(row['Source'],row['Destination']),axis=1)\n",
        "#mapping adar index on test\n",
        "df_final_test['adamic_adar_index'] = df_final_test.apply(lambda row: calc_adar_in(row['Source'],row['Destination']),axis=1)\n",
        "\n",
        "print(\"--- %s seconds ---\" % (time() - start_time))\n",
        "\n"
      ],
      "execution_count": null,
      "outputs": [
        {
          "output_type": "stream",
          "text": [
            "--- 3.1214356422424316 seconds ---\n"
          ],
          "name": "stdout"
        }
      ]
    },
    {
      "cell_type": "code",
      "metadata": {
        "colab": {
          "base_uri": "https://localhost:8080/"
        },
        "id": "f1T3nxCEk5oA",
        "outputId": "72888ce2-2752-4c09-9e34-89e132ca3106"
      },
      "source": [
        "start_time = time()\n",
        "#--------------------------------------------------------------------------------------------------------\n",
        "#mapping followback or not on train\n",
        "df_final_train['cites_back'] = df_final_train.apply(lambda row: follows_back(row['Source'],row['Destination']),axis=1)\n",
        "\n",
        "#mapping followback or not on test\n",
        "df_final_test['cites_back'] = df_final_test.apply(lambda row: follows_back(row['Source'],row['Destination']),axis=1)\n",
        "\n",
        "print(\"--- %s seconds ---\" % (time() - start_time))"
      ],
      "execution_count": null,
      "outputs": [
        {
          "output_type": "stream",
          "text": [
            "--- 3.092703104019165 seconds ---\n"
          ],
          "name": "stdout"
        }
      ]
    },
    {
      "cell_type": "code",
      "metadata": {
        "colab": {
          "base_uri": "https://localhost:8080/"
        },
        "id": "YnItaOzEk5sn",
        "outputId": "1a2062b9-3e1b-465c-fa68-479dc2821282"
      },
      "source": [
        "start_time = time()\n",
        "#--------------------------------------------------------------------------------------------------------\n",
        "#mapping same component of wcc or not on train\n",
        "df_final_train['same_wcc'] = df_final_train.apply(lambda row: belongs_to_same_wcc(row['Source'],row['Destination']),axis=1)\n",
        "\n",
        "##mapping same component of wcc or not on train\n",
        "df_final_test['same_wcc'] = df_final_test.apply(lambda row: belongs_to_same_wcc(row['Source'],row['Destination']),axis=1)\n",
        "\n",
        "print(\"--- %s seconds ---\" % (time() - start_time))"
      ],
      "execution_count": null,
      "outputs": [
        {
          "output_type": "stream",
          "text": [
            "--- 5.536301851272583 seconds ---\n"
          ],
          "name": "stdout"
        }
      ]
    },
    {
      "cell_type": "code",
      "metadata": {
        "id": "8AUAVuADlXnJ",
        "colab": {
          "base_uri": "https://localhost:8080/"
        },
        "outputId": "73ee5a8b-daf7-43ec-af89-b0168565f1c9"
      },
      "source": [
        "start_time = time()\n",
        "#--------------------------------------------------------------------------------------------------------\n",
        "#mapping shortest path on train \n",
        "df_final_train['shortest_path_length'] = df_final_train.apply(lambda row: compute_shortest_path_length(row['Source'],row['Destination']),axis=1)\n",
        "#mapping shortest path on test\n",
        "df_final_test['shortest_path_length'] = df_final_test.apply(lambda row: compute_shortest_path_length(row['Source'],row['Destination']),axis=1)\n",
        "\n",
        "\n",
        "print(\"--- %s seconds ---\" % (time() - start_time))\n"
      ],
      "execution_count": null,
      "outputs": [
        {
          "output_type": "stream",
          "text": [
            "--- 6.6439807415008545 seconds ---\n"
          ],
          "name": "stdout"
        }
      ]
    },
    {
      "cell_type": "code",
      "metadata": {
        "id": "jlgKPSMelXqT"
      },
      "source": [
        "#file = open(\"/content/drive/MyDrive/linkprediction/jmlr/page_rank.p\",\"rb\")\n",
        "file = open(\"/content/drive/MyDrive/linkprediction/prl/page_rank.p\",\"rb\")\n",
        "#file1 = open(\"/content/drive/MyDrive/linkprediction/jmlr/hits.p\",\"rb\")\n",
        "file1 = open(\"/content/drive/MyDrive/linkprediction/prl/hits.p\",\"rb\")\n",
        "#file2 = open(\"/content/drive/MyDrive/linkprediction/jmlr/katz.p\",\"rb\")\n",
        "file2 = open(\"/content/drive/MyDrive/linkprediction/prl/katz.p\",\"rb\")"
      ],
      "execution_count": null,
      "outputs": []
    },
    {
      "cell_type": "code",
      "metadata": {
        "id": "x075_r4RlXsx"
      },
      "source": [
        "pr = pickle.load(file)\n",
        "katz = pickle.load(file2)\n",
        "hits = pickle.load(file1)"
      ],
      "execution_count": null,
      "outputs": []
    },
    {
      "cell_type": "code",
      "metadata": {
        "id": "fheeGlqilXv2",
        "colab": {
          "base_uri": "https://localhost:8080/"
        },
        "outputId": "0303bca6-9e17-480e-fa58-d66da97563e2"
      },
      "source": [
        "start_time = time()\n",
        "#page rank for source and destination in Train and Test\n",
        "#if anything not there in train graph then adding mean page rank \n",
        "df_final_train['page_rank_source'] = df_final_train.Source.apply(lambda x:pr.get(x,mean_pr))\n",
        "df_final_train['page_rank_dest'] = df_final_train.Destination.apply(lambda x:pr.get(x,mean_pr))\n",
        "\n",
        "df_final_test['page_rank_source'] = df_final_test.Source.apply(lambda x:pr.get(x,mean_pr))\n",
        "df_final_test['page_rank_dest'] = df_final_test.Destination.apply(lambda x:pr.get(x,mean_pr))\n",
        "#================================================================================\n",
        "\n",
        "\n",
        "\n",
        "print(\"--- %s seconds ---\" % (time() - start_time))\n"
      ],
      "execution_count": null,
      "outputs": [
        {
          "output_type": "stream",
          "text": [
            "--- 0.17324280738830566 seconds ---\n"
          ],
          "name": "stdout"
        }
      ]
    },
    {
      "cell_type": "code",
      "metadata": {
        "id": "QhbUlTbXlXyN",
        "colab": {
          "base_uri": "https://localhost:8080/"
        },
        "outputId": "d888d55b-5d56-4405-d724-5711207b84b0"
      },
      "source": [
        "start_time = time()\n",
        "#Katz centrality score for source and destination in Train and test\n",
        "#if anything not there in train graph then adding mean katz score\n",
        "df_final_train['katz_source'] = df_final_train.Source.apply(lambda x: katz.get(x,mean_katz))\n",
        "df_final_train['katz_dest'] = df_final_train.Destination.apply(lambda x: katz.get(x,mean_katz))\n",
        "\n",
        "df_final_test['katz_source'] = df_final_test.Source.apply(lambda x: katz.get(x,mean_katz))\n",
        "df_final_test['katz_dest'] = df_final_test.Destination.apply(lambda x: katz.get(x,mean_katz))\n",
        "#================================================================================\n",
        "\n",
        "\n",
        "print(\"--- %s seconds ---\" % (time() - start_time))"
      ],
      "execution_count": null,
      "outputs": [
        {
          "output_type": "stream",
          "text": [
            "--- 0.18464422225952148 seconds ---\n"
          ],
          "name": "stdout"
        }
      ]
    },
    {
      "cell_type": "code",
      "metadata": {
        "id": "rptR20cWlX2h",
        "colab": {
          "base_uri": "https://localhost:8080/"
        },
        "outputId": "03582194-2076-4fec-e0dc-c697cf2913d9"
      },
      "source": [
        "start_time = time()\n",
        "#Hits algorithm score for source and destination in Train and test\n",
        "#if anything not there in train graph then adding 0\n",
        "df_final_train['hubs_source'] = df_final_train.Source.apply(lambda x: hits[0].get(x,0))\n",
        "df_final_train['hubs_dest'] = df_final_train.Destination.apply(lambda x: hits[0].get(x,0))\n",
        "\n",
        "df_final_test['hubs_source'] = df_final_test.Source.apply(lambda x: hits[0].get(x,0))\n",
        "df_final_test['hubs_dest'] = df_final_test.Destination.apply(lambda x: hits[0].get(x,0))\n",
        "#================================================================================\n",
        "\n",
        "\n",
        "print(\"--- %s seconds ---\" % (time() - start_time))"
      ],
      "execution_count": null,
      "outputs": [
        {
          "output_type": "stream",
          "text": [
            "--- 0.21903276443481445 seconds ---\n"
          ],
          "name": "stdout"
        }
      ]
    },
    {
      "cell_type": "code",
      "metadata": {
        "id": "OWayQhSIcONO",
        "colab": {
          "base_uri": "https://localhost:8080/"
        },
        "outputId": "1494053f-1439-424e-ae22-5b3f69f42a1d"
      },
      "source": [
        "start_time = time()\n",
        "#Hits algorithm score for source and destination in Train and Test\n",
        "#if anything not there in train graph then adding 0\n",
        "df_final_train['authorities_source'] = df_final_train.Source.apply(lambda x: hits[1].get(x,0))\n",
        "df_final_train['authorities_dest'] = df_final_train.Destination.apply(lambda x: hits[1].get(x,0))\n",
        "\n",
        "df_final_test['authorities_source'] = df_final_test.Source.apply(lambda x: hits[1].get(x,0))\n",
        "df_final_test['authorities_dest'] = df_final_test.Destination.apply(lambda x: hits[1].get(x,0))\n",
        "#================================================================================\n",
        "\n",
        "\n",
        "print(\"--- %s seconds ---\" % (time() - start_time))"
      ],
      "execution_count": null,
      "outputs": [
        {
          "output_type": "stream",
          "text": [
            "--- 0.23702216148376465 seconds ---\n"
          ],
          "name": "stdout"
        }
      ]
    },
    {
      "cell_type": "code",
      "metadata": {
        "id": "1nalwscJlr61",
        "colab": {
          "base_uri": "https://localhost:8080/"
        },
        "outputId": "3f8602db-d451-4fa2-ab38-55d8c2298dc9"
      },
      "source": [
        "df_final_train.columns"
      ],
      "execution_count": null,
      "outputs": [
        {
          "output_type": "execute_result",
          "data": {
            "text/plain": [
              "Index(['Source', 'Destination', 'indicator_link', 'no_of_citers_source',\n",
              "       'no_of_citers_dest', 'no_of_citees_source', 'no_of_citees_dest',\n",
              "       'common_citers', 'common_citees', 'adamic_adar_index', 'cites_back',\n",
              "       'same_wcc', 'shortest_path_length', 'page_rank_source',\n",
              "       'page_rank_dest', 'katz_source', 'katz_dest', 'hubs_source',\n",
              "       'hubs_dest', 'authorities_source', 'authorities_dest'],\n",
              "      dtype='object')"
            ]
          },
          "metadata": {
            "tags": []
          },
          "execution_count": 65
        }
      ]
    },
    {
      "cell_type": "code",
      "metadata": {
        "id": "PAksKtUOlr-b"
      },
      "source": [
        "#df_final_train.to_csv('/content/drive/MyDrive/linkprediction/jmlr/final_train_with_feaures.csv',index=False)\n",
        "df_final_train.to_csv('/content/drive/MyDrive/linkprediction/prl/final_train_with_feaures.csv',index=False)"
      ],
      "execution_count": null,
      "outputs": []
    },
    {
      "cell_type": "code",
      "metadata": {
        "id": "Yqz733pglsAk"
      },
      "source": [
        "#df_final_test.to_csv('/content/drive/MyDrive/linkprediction/jmlr/final_test_with_feaures.csv',index=False)\n",
        "df_final_test.to_csv('/content/drive/MyDrive/linkprediction/prl/final_test_with_feaures.csv',index=False)"
      ],
      "execution_count": null,
      "outputs": []
    },
    {
      "cell_type": "code",
      "metadata": {
        "colab": {
          "base_uri": "https://localhost:8080/",
          "height": 224
        },
        "id": "HpXAc2DclsDR",
        "outputId": "c10ba503-8602-426e-97e5-23fef46bdb0b"
      },
      "source": [
        "df_final_train.head()"
      ],
      "execution_count": null,
      "outputs": [
        {
          "output_type": "execute_result",
          "data": {
            "text/html": [
              "<div>\n",
              "<style scoped>\n",
              "    .dataframe tbody tr th:only-of-type {\n",
              "        vertical-align: middle;\n",
              "    }\n",
              "\n",
              "    .dataframe tbody tr th {\n",
              "        vertical-align: top;\n",
              "    }\n",
              "\n",
              "    .dataframe thead th {\n",
              "        text-align: right;\n",
              "    }\n",
              "</style>\n",
              "<table border=\"1\" class=\"dataframe\">\n",
              "  <thead>\n",
              "    <tr style=\"text-align: right;\">\n",
              "      <th></th>\n",
              "      <th>Source</th>\n",
              "      <th>Destination</th>\n",
              "      <th>indicator_link</th>\n",
              "      <th>no_of_citers_source</th>\n",
              "      <th>no_of_citers_dest</th>\n",
              "      <th>no_of_citees_source</th>\n",
              "      <th>no_of_citees_dest</th>\n",
              "      <th>common_citers</th>\n",
              "      <th>common_citees</th>\n",
              "      <th>adamic_adar_index</th>\n",
              "      <th>cites_back</th>\n",
              "      <th>same_wcc</th>\n",
              "      <th>shortest_path_length</th>\n",
              "      <th>page_rank_source</th>\n",
              "      <th>page_rank_dest</th>\n",
              "      <th>katz_source</th>\n",
              "      <th>katz_dest</th>\n",
              "      <th>hubs_source</th>\n",
              "      <th>hubs_dest</th>\n",
              "      <th>authorities_source</th>\n",
              "      <th>authorities_dest</th>\n",
              "    </tr>\n",
              "  </thead>\n",
              "  <tbody>\n",
              "    <tr>\n",
              "      <th>0</th>\n",
              "      <td>1981117050</td>\n",
              "      <td>121916871</td>\n",
              "      <td>1</td>\n",
              "      <td>4</td>\n",
              "      <td>60</td>\n",
              "      <td>9</td>\n",
              "      <td>4</td>\n",
              "      <td>2</td>\n",
              "      <td>2</td>\n",
              "      <td>0</td>\n",
              "      <td>0</td>\n",
              "      <td>1</td>\n",
              "      <td>2</td>\n",
              "      <td>0.000124</td>\n",
              "      <td>0.001303</td>\n",
              "      <td>0.014446</td>\n",
              "      <td>0.018949</td>\n",
              "      <td>0.000252</td>\n",
              "      <td>0.000222</td>\n",
              "      <td>0.000045</td>\n",
              "      <td>0.001435</td>\n",
              "    </tr>\n",
              "    <tr>\n",
              "      <th>1</th>\n",
              "      <td>1981117050</td>\n",
              "      <td>1861140251</td>\n",
              "      <td>1</td>\n",
              "      <td>4</td>\n",
              "      <td>9</td>\n",
              "      <td>9</td>\n",
              "      <td>3</td>\n",
              "      <td>2</td>\n",
              "      <td>0</td>\n",
              "      <td>0</td>\n",
              "      <td>0</td>\n",
              "      <td>1</td>\n",
              "      <td>2</td>\n",
              "      <td>0.000124</td>\n",
              "      <td>0.000164</td>\n",
              "      <td>0.014446</td>\n",
              "      <td>0.014962</td>\n",
              "      <td>0.000252</td>\n",
              "      <td>0.000105</td>\n",
              "      <td>0.000045</td>\n",
              "      <td>0.000371</td>\n",
              "    </tr>\n",
              "    <tr>\n",
              "      <th>2</th>\n",
              "      <td>1981117050</td>\n",
              "      <td>1981117050</td>\n",
              "      <td>1</td>\n",
              "      <td>4</td>\n",
              "      <td>4</td>\n",
              "      <td>9</td>\n",
              "      <td>9</td>\n",
              "      <td>4</td>\n",
              "      <td>9</td>\n",
              "      <td>0</td>\n",
              "      <td>1</td>\n",
              "      <td>1</td>\n",
              "      <td>0</td>\n",
              "      <td>0.000124</td>\n",
              "      <td>0.000124</td>\n",
              "      <td>0.014446</td>\n",
              "      <td>0.014446</td>\n",
              "      <td>0.000252</td>\n",
              "      <td>0.000252</td>\n",
              "      <td>0.000045</td>\n",
              "      <td>0.000045</td>\n",
              "    </tr>\n",
              "    <tr>\n",
              "      <th>3</th>\n",
              "      <td>1981117050</td>\n",
              "      <td>2036223355</td>\n",
              "      <td>1</td>\n",
              "      <td>4</td>\n",
              "      <td>37</td>\n",
              "      <td>9</td>\n",
              "      <td>30</td>\n",
              "      <td>2</td>\n",
              "      <td>3</td>\n",
              "      <td>0</td>\n",
              "      <td>0</td>\n",
              "      <td>1</td>\n",
              "      <td>2</td>\n",
              "      <td>0.000124</td>\n",
              "      <td>0.000357</td>\n",
              "      <td>0.014446</td>\n",
              "      <td>0.017113</td>\n",
              "      <td>0.000252</td>\n",
              "      <td>0.000485</td>\n",
              "      <td>0.000045</td>\n",
              "      <td>0.000713</td>\n",
              "    </tr>\n",
              "    <tr>\n",
              "      <th>4</th>\n",
              "      <td>1981117050</td>\n",
              "      <td>2096396845</td>\n",
              "      <td>1</td>\n",
              "      <td>4</td>\n",
              "      <td>33</td>\n",
              "      <td>9</td>\n",
              "      <td>24</td>\n",
              "      <td>2</td>\n",
              "      <td>0</td>\n",
              "      <td>0</td>\n",
              "      <td>0</td>\n",
              "      <td>1</td>\n",
              "      <td>2</td>\n",
              "      <td>0.000124</td>\n",
              "      <td>0.000335</td>\n",
              "      <td>0.014446</td>\n",
              "      <td>0.016860</td>\n",
              "      <td>0.000252</td>\n",
              "      <td>0.000355</td>\n",
              "      <td>0.000045</td>\n",
              "      <td>0.000989</td>\n",
              "    </tr>\n",
              "  </tbody>\n",
              "</table>\n",
              "</div>"
            ],
            "text/plain": [
              "       Source  Destination  ...  authorities_source  authorities_dest\n",
              "0  1981117050    121916871  ...            0.000045          0.001435\n",
              "1  1981117050   1861140251  ...            0.000045          0.000371\n",
              "2  1981117050   1981117050  ...            0.000045          0.000045\n",
              "3  1981117050   2036223355  ...            0.000045          0.000713\n",
              "4  1981117050   2096396845  ...            0.000045          0.000989\n",
              "\n",
              "[5 rows x 21 columns]"
            ]
          },
          "metadata": {
            "tags": []
          },
          "execution_count": 68
        }
      ]
    },
    {
      "cell_type": "code",
      "metadata": {
        "id": "_WzSLFJolsJA"
      },
      "source": [
        "y_train = df_final_train.indicator_link\n",
        "y_test = df_final_test.indicator_link"
      ],
      "execution_count": null,
      "outputs": []
    },
    {
      "cell_type": "code",
      "metadata": {
        "id": "m0XEwZgtlsKz"
      },
      "source": [
        "df_final_train.drop(['Source', 'Destination','indicator_link'],axis=1,inplace=True)\n",
        "df_final_test.drop(['Source', 'Destination','indicator_link'],axis=1,inplace=True)"
      ],
      "execution_count": null,
      "outputs": []
    },
    {
      "cell_type": "code",
      "metadata": {
        "id": "OyKrvLZllsMa"
      },
      "source": [
        "#RANDOM FOREST\n",
        "start_time = time()\n",
        "param_dist = {\"n_estimators\":sp_randint(105,125),\n",
        "              \"max_depth\": sp_randint(10,15),\n",
        "              \"min_samples_split\": sp_randint(110,190),\n",
        "              \"min_samples_leaf\": sp_randint(25,65)}\n",
        "\n",
        "clf = RandomForestClassifier(random_state=25,n_jobs=-1)\n",
        "\n",
        "rf_random = RandomizedSearchCV(clf, param_distributions=param_dist,\n",
        "                                   n_iter=5,cv=10,scoring='f1',random_state=25,verbose=2)\n",
        "\n"
      ],
      "execution_count": null,
      "outputs": []
    },
    {
      "cell_type": "code",
      "metadata": {
        "id": "afYXSDbnlsOj",
        "colab": {
          "base_uri": "https://localhost:8080/",
          "height": 1000
        },
        "outputId": "e0eb5155-aa12-4061-c978-596013e2492f"
      },
      "source": [
        "#RANDOM FOREST\n",
        "start_time = time()\n",
        "rf_random.fit(df_final_train,y_train)\n",
        "print('mean test scores',rf_random.cv_results_['mean_test_score'])\n",
        "print('mean train scores',rf_random.cv_results_['mean_train_score'])\n",
        "print(\"--- %s seconds ---\" % (time() - start_time))"
      ],
      "execution_count": null,
      "outputs": [
        {
          "output_type": "stream",
          "text": [
            "Fitting 10 folds for each of 5 candidates, totalling 50 fits\n",
            "[CV] max_depth=14, min_samples_leaf=51, min_samples_split=125, n_estimators=117 \n"
          ],
          "name": "stdout"
        },
        {
          "output_type": "stream",
          "text": [
            "[Parallel(n_jobs=1)]: Using backend SequentialBackend with 1 concurrent workers.\n"
          ],
          "name": "stderr"
        },
        {
          "output_type": "stream",
          "text": [
            "[CV]  max_depth=14, min_samples_leaf=51, min_samples_split=125, n_estimators=117, total=   5.3s\n",
            "[CV] max_depth=14, min_samples_leaf=51, min_samples_split=125, n_estimators=117 \n"
          ],
          "name": "stdout"
        },
        {
          "output_type": "stream",
          "text": [
            "[Parallel(n_jobs=1)]: Done   1 out of   1 | elapsed:    5.3s remaining:    0.0s\n"
          ],
          "name": "stderr"
        },
        {
          "output_type": "stream",
          "text": [
            "[CV]  max_depth=14, min_samples_leaf=51, min_samples_split=125, n_estimators=117, total=   4.0s\n",
            "[CV] max_depth=14, min_samples_leaf=51, min_samples_split=125, n_estimators=117 \n",
            "[CV]  max_depth=14, min_samples_leaf=51, min_samples_split=125, n_estimators=117, total=   3.9s\n",
            "[CV] max_depth=14, min_samples_leaf=51, min_samples_split=125, n_estimators=117 \n",
            "[CV]  max_depth=14, min_samples_leaf=51, min_samples_split=125, n_estimators=117, total=   3.9s\n",
            "[CV] max_depth=14, min_samples_leaf=51, min_samples_split=125, n_estimators=117 \n",
            "[CV]  max_depth=14, min_samples_leaf=51, min_samples_split=125, n_estimators=117, total=   3.9s\n",
            "[CV] max_depth=14, min_samples_leaf=51, min_samples_split=125, n_estimators=117 \n",
            "[CV]  max_depth=14, min_samples_leaf=51, min_samples_split=125, n_estimators=117, total=   3.9s\n",
            "[CV] max_depth=14, min_samples_leaf=51, min_samples_split=125, n_estimators=117 \n",
            "[CV]  max_depth=14, min_samples_leaf=51, min_samples_split=125, n_estimators=117, total=   3.8s\n",
            "[CV] max_depth=14, min_samples_leaf=51, min_samples_split=125, n_estimators=117 \n",
            "[CV]  max_depth=14, min_samples_leaf=51, min_samples_split=125, n_estimators=117, total=   3.8s\n",
            "[CV] max_depth=14, min_samples_leaf=51, min_samples_split=125, n_estimators=117 \n",
            "[CV]  max_depth=14, min_samples_leaf=51, min_samples_split=125, n_estimators=117, total=   4.0s\n",
            "[CV] max_depth=14, min_samples_leaf=51, min_samples_split=125, n_estimators=117 \n",
            "[CV]  max_depth=14, min_samples_leaf=51, min_samples_split=125, n_estimators=117, total=   3.8s\n",
            "[CV] max_depth=12, min_samples_leaf=33, min_samples_split=138, n_estimators=109 \n",
            "[CV]  max_depth=12, min_samples_leaf=33, min_samples_split=138, n_estimators=109, total=   3.6s\n",
            "[CV] max_depth=12, min_samples_leaf=33, min_samples_split=138, n_estimators=109 \n",
            "[CV]  max_depth=12, min_samples_leaf=33, min_samples_split=138, n_estimators=109, total=   3.6s\n",
            "[CV] max_depth=12, min_samples_leaf=33, min_samples_split=138, n_estimators=109 \n",
            "[CV]  max_depth=12, min_samples_leaf=33, min_samples_split=138, n_estimators=109, total=   3.6s\n",
            "[CV] max_depth=12, min_samples_leaf=33, min_samples_split=138, n_estimators=109 \n",
            "[CV]  max_depth=12, min_samples_leaf=33, min_samples_split=138, n_estimators=109, total=   3.6s\n",
            "[CV] max_depth=12, min_samples_leaf=33, min_samples_split=138, n_estimators=109 \n",
            "[CV]  max_depth=12, min_samples_leaf=33, min_samples_split=138, n_estimators=109, total=   3.6s\n",
            "[CV] max_depth=12, min_samples_leaf=33, min_samples_split=138, n_estimators=109 \n",
            "[CV]  max_depth=12, min_samples_leaf=33, min_samples_split=138, n_estimators=109, total=   3.6s\n",
            "[CV] max_depth=12, min_samples_leaf=33, min_samples_split=138, n_estimators=109 \n",
            "[CV]  max_depth=12, min_samples_leaf=33, min_samples_split=138, n_estimators=109, total=   3.7s\n",
            "[CV] max_depth=12, min_samples_leaf=33, min_samples_split=138, n_estimators=109 \n",
            "[CV]  max_depth=12, min_samples_leaf=33, min_samples_split=138, n_estimators=109, total=   3.6s\n",
            "[CV] max_depth=12, min_samples_leaf=33, min_samples_split=138, n_estimators=109 \n",
            "[CV]  max_depth=12, min_samples_leaf=33, min_samples_split=138, n_estimators=109, total=   3.6s\n",
            "[CV] max_depth=12, min_samples_leaf=33, min_samples_split=138, n_estimators=109 \n",
            "[CV]  max_depth=12, min_samples_leaf=33, min_samples_split=138, n_estimators=109, total=   3.6s\n",
            "[CV] max_depth=11, min_samples_leaf=56, min_samples_split=179, n_estimators=106 \n",
            "[CV]  max_depth=11, min_samples_leaf=56, min_samples_split=179, n_estimators=106, total=   3.5s\n",
            "[CV] max_depth=11, min_samples_leaf=56, min_samples_split=179, n_estimators=106 \n",
            "[CV]  max_depth=11, min_samples_leaf=56, min_samples_split=179, n_estimators=106, total=   3.5s\n",
            "[CV] max_depth=11, min_samples_leaf=56, min_samples_split=179, n_estimators=106 \n",
            "[CV]  max_depth=11, min_samples_leaf=56, min_samples_split=179, n_estimators=106, total=   3.5s\n",
            "[CV] max_depth=11, min_samples_leaf=56, min_samples_split=179, n_estimators=106 \n",
            "[CV]  max_depth=11, min_samples_leaf=56, min_samples_split=179, n_estimators=106, total=   3.5s\n",
            "[CV] max_depth=11, min_samples_leaf=56, min_samples_split=179, n_estimators=106 \n",
            "[CV]  max_depth=11, min_samples_leaf=56, min_samples_split=179, n_estimators=106, total=   3.6s\n",
            "[CV] max_depth=11, min_samples_leaf=56, min_samples_split=179, n_estimators=106 \n",
            "[CV]  max_depth=11, min_samples_leaf=56, min_samples_split=179, n_estimators=106, total=   3.5s\n",
            "[CV] max_depth=11, min_samples_leaf=56, min_samples_split=179, n_estimators=106 \n",
            "[CV]  max_depth=11, min_samples_leaf=56, min_samples_split=179, n_estimators=106, total=   3.6s\n",
            "[CV] max_depth=11, min_samples_leaf=56, min_samples_split=179, n_estimators=106 \n",
            "[CV]  max_depth=11, min_samples_leaf=56, min_samples_split=179, n_estimators=106, total=   3.5s\n",
            "[CV] max_depth=11, min_samples_leaf=56, min_samples_split=179, n_estimators=106 \n",
            "[CV]  max_depth=11, min_samples_leaf=56, min_samples_split=179, n_estimators=106, total=   3.6s\n",
            "[CV] max_depth=11, min_samples_leaf=56, min_samples_split=179, n_estimators=106 \n",
            "[CV]  max_depth=11, min_samples_leaf=56, min_samples_split=179, n_estimators=106, total=   3.5s\n",
            "[CV] max_depth=13, min_samples_leaf=49, min_samples_split=165, n_estimators=108 \n",
            "[CV]  max_depth=13, min_samples_leaf=49, min_samples_split=165, n_estimators=108, total=   3.6s\n",
            "[CV] max_depth=13, min_samples_leaf=49, min_samples_split=165, n_estimators=108 \n",
            "[CV]  max_depth=13, min_samples_leaf=49, min_samples_split=165, n_estimators=108, total=   3.6s\n",
            "[CV] max_depth=13, min_samples_leaf=49, min_samples_split=165, n_estimators=108 \n",
            "[CV]  max_depth=13, min_samples_leaf=49, min_samples_split=165, n_estimators=108, total=   3.7s\n",
            "[CV] max_depth=13, min_samples_leaf=49, min_samples_split=165, n_estimators=108 \n",
            "[CV]  max_depth=13, min_samples_leaf=49, min_samples_split=165, n_estimators=108, total=   3.7s\n",
            "[CV] max_depth=13, min_samples_leaf=49, min_samples_split=165, n_estimators=108 \n",
            "[CV]  max_depth=13, min_samples_leaf=49, min_samples_split=165, n_estimators=108, total=   3.6s\n",
            "[CV] max_depth=13, min_samples_leaf=49, min_samples_split=165, n_estimators=108 \n",
            "[CV]  max_depth=13, min_samples_leaf=49, min_samples_split=165, n_estimators=108, total=   3.6s\n",
            "[CV] max_depth=13, min_samples_leaf=49, min_samples_split=165, n_estimators=108 \n",
            "[CV]  max_depth=13, min_samples_leaf=49, min_samples_split=165, n_estimators=108, total=   3.6s\n",
            "[CV] max_depth=13, min_samples_leaf=49, min_samples_split=165, n_estimators=108 \n",
            "[CV]  max_depth=13, min_samples_leaf=49, min_samples_split=165, n_estimators=108, total=   3.7s\n",
            "[CV] max_depth=13, min_samples_leaf=49, min_samples_split=165, n_estimators=108 \n",
            "[CV]  max_depth=13, min_samples_leaf=49, min_samples_split=165, n_estimators=108, total=   3.5s\n",
            "[CV] max_depth=13, min_samples_leaf=49, min_samples_split=165, n_estimators=108 \n",
            "[CV]  max_depth=13, min_samples_leaf=49, min_samples_split=165, n_estimators=108, total=   3.6s\n",
            "[CV] max_depth=14, min_samples_leaf=28, min_samples_split=111, n_estimators=121 \n",
            "[CV]  max_depth=14, min_samples_leaf=28, min_samples_split=111, n_estimators=121, total=   4.1s\n",
            "[CV] max_depth=14, min_samples_leaf=28, min_samples_split=111, n_estimators=121 \n",
            "[CV]  max_depth=14, min_samples_leaf=28, min_samples_split=111, n_estimators=121, total=   4.1s\n",
            "[CV] max_depth=14, min_samples_leaf=28, min_samples_split=111, n_estimators=121 \n",
            "[CV]  max_depth=14, min_samples_leaf=28, min_samples_split=111, n_estimators=121, total=   4.1s\n",
            "[CV] max_depth=14, min_samples_leaf=28, min_samples_split=111, n_estimators=121 \n",
            "[CV]  max_depth=14, min_samples_leaf=28, min_samples_split=111, n_estimators=121, total=   4.1s\n",
            "[CV] max_depth=14, min_samples_leaf=28, min_samples_split=111, n_estimators=121 \n",
            "[CV]  max_depth=14, min_samples_leaf=28, min_samples_split=111, n_estimators=121, total=   4.1s\n",
            "[CV] max_depth=14, min_samples_leaf=28, min_samples_split=111, n_estimators=121 \n",
            "[CV]  max_depth=14, min_samples_leaf=28, min_samples_split=111, n_estimators=121, total=   4.2s\n",
            "[CV] max_depth=14, min_samples_leaf=28, min_samples_split=111, n_estimators=121 \n",
            "[CV]  max_depth=14, min_samples_leaf=28, min_samples_split=111, n_estimators=121, total=   4.1s\n",
            "[CV] max_depth=14, min_samples_leaf=28, min_samples_split=111, n_estimators=121 \n",
            "[CV]  max_depth=14, min_samples_leaf=28, min_samples_split=111, n_estimators=121, total=   4.1s\n",
            "[CV] max_depth=14, min_samples_leaf=28, min_samples_split=111, n_estimators=121 \n",
            "[CV]  max_depth=14, min_samples_leaf=28, min_samples_split=111, n_estimators=121, total=   4.1s\n",
            "[CV] max_depth=14, min_samples_leaf=28, min_samples_split=111, n_estimators=121 \n",
            "[CV]  max_depth=14, min_samples_leaf=28, min_samples_split=111, n_estimators=121, total=   4.0s\n"
          ],
          "name": "stdout"
        },
        {
          "output_type": "stream",
          "text": [
            "[Parallel(n_jobs=1)]: Done  50 out of  50 | elapsed:  3.1min finished\n"
          ],
          "name": "stderr"
        },
        {
          "output_type": "stream",
          "text": [
            "mean test scores [1. 1. 1. 1. 1.]\n"
          ],
          "name": "stdout"
        },
        {
          "output_type": "error",
          "ename": "KeyError",
          "evalue": "ignored",
          "traceback": [
            "\u001b[0;31m---------------------------------------------------------------------------\u001b[0m",
            "\u001b[0;31mKeyError\u001b[0m                                  Traceback (most recent call last)",
            "\u001b[0;32m<ipython-input-64-cc67915ca082>\u001b[0m in \u001b[0;36m<module>\u001b[0;34m()\u001b[0m\n\u001b[1;32m      3\u001b[0m \u001b[0mrf_random\u001b[0m\u001b[0;34m.\u001b[0m\u001b[0mfit\u001b[0m\u001b[0;34m(\u001b[0m\u001b[0mdf_final_train\u001b[0m\u001b[0;34m,\u001b[0m\u001b[0my_train\u001b[0m\u001b[0;34m)\u001b[0m\u001b[0;34m\u001b[0m\u001b[0;34m\u001b[0m\u001b[0m\n\u001b[1;32m      4\u001b[0m \u001b[0mprint\u001b[0m\u001b[0;34m(\u001b[0m\u001b[0;34m'mean test scores'\u001b[0m\u001b[0;34m,\u001b[0m\u001b[0mrf_random\u001b[0m\u001b[0;34m.\u001b[0m\u001b[0mcv_results_\u001b[0m\u001b[0;34m[\u001b[0m\u001b[0;34m'mean_test_score'\u001b[0m\u001b[0;34m]\u001b[0m\u001b[0;34m)\u001b[0m\u001b[0;34m\u001b[0m\u001b[0;34m\u001b[0m\u001b[0m\n\u001b[0;32m----> 5\u001b[0;31m \u001b[0mprint\u001b[0m\u001b[0;34m(\u001b[0m\u001b[0;34m'mean train scores'\u001b[0m\u001b[0;34m,\u001b[0m\u001b[0mrf_random\u001b[0m\u001b[0;34m.\u001b[0m\u001b[0mcv_results_\u001b[0m\u001b[0;34m[\u001b[0m\u001b[0;34m'mean_train_score'\u001b[0m\u001b[0;34m]\u001b[0m\u001b[0;34m)\u001b[0m\u001b[0;34m\u001b[0m\u001b[0;34m\u001b[0m\u001b[0m\n\u001b[0m\u001b[1;32m      6\u001b[0m \u001b[0mprint\u001b[0m\u001b[0;34m(\u001b[0m\u001b[0;34m\"--- %s seconds ---\"\u001b[0m \u001b[0;34m%\u001b[0m \u001b[0;34m(\u001b[0m\u001b[0mtime\u001b[0m\u001b[0;34m(\u001b[0m\u001b[0;34m)\u001b[0m \u001b[0;34m-\u001b[0m \u001b[0mstart_time\u001b[0m\u001b[0;34m)\u001b[0m\u001b[0;34m)\u001b[0m\u001b[0;34m\u001b[0m\u001b[0;34m\u001b[0m\u001b[0m\n",
            "\u001b[0;31mKeyError\u001b[0m: 'mean_train_score'"
          ]
        }
      ]
    },
    {
      "cell_type": "code",
      "metadata": {
        "id": "dGLtt90LlsRI"
      },
      "source": [
        "clf=rf_random.best_estimator_"
      ],
      "execution_count": null,
      "outputs": []
    },
    {
      "cell_type": "code",
      "metadata": {
        "colab": {
          "base_uri": "https://localhost:8080/"
        },
        "id": "dS2ApFhTlsUJ",
        "outputId": "6875933f-48a0-42c1-9155-1495f7deb9f2"
      },
      "source": [
        "clf.fit(df_final_train,y_train)"
      ],
      "execution_count": null,
      "outputs": [
        {
          "output_type": "execute_result",
          "data": {
            "text/plain": [
              "RandomForestClassifier(bootstrap=True, ccp_alpha=0.0, class_weight=None,\n",
              "                       criterion='gini', max_depth=14, max_features='auto',\n",
              "                       max_leaf_nodes=None, max_samples=None,\n",
              "                       min_impurity_decrease=0.0, min_impurity_split=None,\n",
              "                       min_samples_leaf=51, min_samples_split=125,\n",
              "                       min_weight_fraction_leaf=0.0, n_estimators=117,\n",
              "                       n_jobs=-1, oob_score=False, random_state=25, verbose=0,\n",
              "                       warm_start=False)"
            ]
          },
          "metadata": {
            "tags": []
          },
          "execution_count": 66
        }
      ]
    },
    {
      "cell_type": "code",
      "metadata": {
        "id": "jUHIWYwSlsXS"
      },
      "source": [
        "y_train_pred = clf.predict(df_final_train)\n",
        "y_test_pred = clf.predict(df_final_test)"
      ],
      "execution_count": null,
      "outputs": []
    },
    {
      "cell_type": "code",
      "metadata": {
        "id": "-GP8Uux1lsap"
      },
      "source": [
        "final_train=pd.read_csv('/content/drive/MyDrive/linkprediction/final_train_with_feaures.csv')"
      ],
      "execution_count": null,
      "outputs": []
    },
    {
      "cell_type": "code",
      "metadata": {
        "id": "E-1uZGUBlsdT"
      },
      "source": [
        "final_test=pd.read_csv('/content/drive/MyDrive/linkprediction/final_test_with_feaures.csv')"
      ],
      "execution_count": null,
      "outputs": []
    },
    {
      "cell_type": "code",
      "metadata": {
        "colab": {
          "base_uri": "https://localhost:8080/"
        },
        "id": "ZZ-IGpIplsgJ",
        "outputId": "38ae94cc-89b8-452f-fa7f-c657d079b059"
      },
      "source": [
        "print('Train f1 score',f1_score(y_train,y_train_pred))\n",
        "print('Test f1 score',f1_score(y_test,y_test_pred))"
      ],
      "execution_count": null,
      "outputs": [
        {
          "output_type": "stream",
          "text": [
            "Train f1 score 1.0\n",
            "Test f1 score 0.9749954738387883\n"
          ],
          "name": "stdout"
        }
      ]
    },
    {
      "cell_type": "code",
      "metadata": {
        "id": "fwIgA5Gl07jx"
      },
      "source": [
        "predicted_test_links=[]\n",
        "for i in range(len(y_test_pred)):\n",
        "  if y_test_pred[i]==1:\n",
        "    source=final_test.loc[i,'Source']\n",
        "    dest=final_test.loc[i,'Destination']\n",
        "    edge=[]\n",
        "    edge.append(source)\n",
        "    edge.append(dest)\n",
        "    predicted_test_links.append(edge)\n",
        "    #print(source,dest)"
      ],
      "execution_count": null,
      "outputs": []
    },
    {
      "cell_type": "code",
      "metadata": {
        "colab": {
          "base_uri": "https://localhost:8080/"
        },
        "id": "hmGsKN4x2UY2",
        "outputId": "d6e84d49-f4e1-4ee9-edfb-540b1e9989a8"
      },
      "source": [
        "len(predicted_test_links)"
      ],
      "execution_count": null,
      "outputs": [
        {
          "output_type": "execute_result",
          "data": {
            "text/plain": [
              "24234"
            ]
          },
          "metadata": {
            "tags": []
          },
          "execution_count": 75
        }
      ]
    },
    {
      "cell_type": "code",
      "metadata": {
        "id": "wZXIZevFShSs"
      },
      "source": [
        "\n",
        "correctly_predicted_links=0\n",
        "for i in range(len(y_test_pred)):\n",
        "  if y_test_pred[i]==1 and y_test[i]==1:\n",
        "    correctly_predicted_links+=1"
      ],
      "execution_count": null,
      "outputs": []
    },
    {
      "cell_type": "code",
      "metadata": {
        "colab": {
          "base_uri": "https://localhost:8080/"
        },
        "id": "EqiWhBW4S218",
        "outputId": "61137312-b932-44e0-b5fb-73f1d0c8a86e"
      },
      "source": [
        "correctly_predicted_links"
      ],
      "execution_count": null,
      "outputs": [
        {
          "output_type": "execute_result",
          "data": {
            "text/plain": [
              "24234"
            ]
          },
          "metadata": {
            "tags": []
          },
          "execution_count": 73
        }
      ]
    },
    {
      "cell_type": "code",
      "metadata": {
        "id": "OKxDx5IvkqM_"
      },
      "source": [
        "with open('/content/drive/MyDrive/linkprediction/predicted_test_links_randomforest.pkl','wb') as f:\n",
        "  pickle.dump(predicted_test_links,f)"
      ],
      "execution_count": null,
      "outputs": []
    },
    {
      "cell_type": "code",
      "metadata": {
        "id": "rRe4Wi1b2bvc"
      },
      "source": [
        "def plot_confusion_matrix(test_y, predict_y):\n",
        "    C = confusion_matrix(test_y, predict_y)\n",
        "    \n",
        "    A =(((C.T)/(C.sum(axis=1))).T)\n",
        "    \n",
        "    B =(C/C.sum(axis=0))\n",
        "    plt.figure(figsize=(20,4))\n",
        "    \n",
        "    labels = [0,1]\n",
        "    # representing A in heatmap format\n",
        "    cmap=sns.light_palette(\"blue\")\n",
        "    plt.subplot(1, 3, 1)\n",
        "    sns.heatmap(C, annot=True, cmap=cmap, fmt=\".3f\", xticklabels=labels, yticklabels=labels)\n",
        "    plt.xlabel('Predicted Class')\n",
        "    plt.ylabel('Original Class')\n",
        "    plt.title(\"Confusion matrix\")\n",
        "    \n",
        "    plt.subplot(1, 3, 2)\n",
        "    sns.heatmap(B, annot=True, cmap=cmap, fmt=\".3f\", xticklabels=labels, yticklabels=labels)\n",
        "    plt.xlabel('Predicted Class')\n",
        "    plt.ylabel('Original Class')\n",
        "    plt.title(\"Precision matrix\")"
      ],
      "execution_count": null,
      "outputs": []
    },
    {
      "cell_type": "code",
      "metadata": {
        "colab": {
          "base_uri": "https://localhost:8080/",
          "height": 607
        },
        "id": "5PW17-X7pNsW",
        "outputId": "8b94bb6a-804f-4bc1-ad87-1ee264c26410"
      },
      "source": [
        "print('Train confusion_matrix')\n",
        "plot_confusion_matrix(y_train,y_train_pred)\n",
        "print('Test confusion_matrix')\n",
        "plot_confusion_matrix(y_test,y_test_pred)"
      ],
      "execution_count": null,
      "outputs": [
        {
          "output_type": "stream",
          "text": [
            "Train confusion_matrix\n",
            "Test confusion_matrix\n"
          ],
          "name": "stdout"
        },
        {
          "output_type": "display_data",
          "data": {
            "image/png": "[encoded data removed]",
            "text/plain": [
              "<Figure size 1440x288 with 4 Axes>"
            ]
          },
          "metadata": {
            "tags": [],
            "needs_background": "light"
          }
        },
        {
          "output_type": "display_data",
          "data": {
            "image/png": "[encoded data removed]",
            "text/plain": [
              "<Figure size 1440x288 with 4 Axes>"
            ]
          },
          "metadata": {
            "tags": [],
            "needs_background": "light"
          }
        }
      ]
    },
    {
      "cell_type": "code",
      "metadata": {
        "colab": {
          "base_uri": "https://localhost:8080/",
          "height": 295
        },
        "id": "qrR9BOtypQ0g",
        "outputId": "36f5a3dc-061c-4c33-8235-067fd8c6c425"
      },
      "source": [
        "fpr,tpr,ths = roc_curve(y_test,y_test_pred)\n",
        "auc_sc = auc(fpr, tpr)\n",
        "plt.plot(fpr, tpr, color='navy',label='ROC curve (area = %0.2f)' % auc_sc)\n",
        "plt.xlabel('False Positive Rate')\n",
        "plt.ylabel('True Positive Rate')\n",
        "plt.title('Receiver operating characteristic with test data')\n",
        "plt.legend()\n",
        "plt.show()\n",
        "\n"
      ],
      "execution_count": null,
      "outputs": [
        {
          "output_type": "display_data",
          "data": {
            "image/png": "[encoded data removed]",
            "text/plain": [
              "<Figure size 432x288 with 1 Axes>"
            ]
          },
          "metadata": {
            "tags": [],
            "needs_background": "light"
          }
        }
      ]
    },
    {
      "cell_type": "code",
      "metadata": {
        "colab": {
          "base_uri": "https://localhost:8080/",
          "height": 296
        },
        "id": "ojcYvQjspUBx",
        "outputId": "40e348c9-4aea-4a99-f350-0f9ced1ba6d8"
      },
      "source": [
        "precision, recall, _ = precision_recall_curve(y_test, y_test_pred)\n",
        "AUC= auc(recall, precision)\n",
        "print(AUC)\n",
        "plt.plot(recall, precision, label='PR curve (area = %0.2f)' % AUC)\n",
        "plt.xlabel('Recall')\n",
        "plt.ylabel('Precision')\n",
        "plt.legend()\n",
        "plt.show()"
      ],
      "execution_count": null,
      "outputs": [
        {
          "output_type": "stream",
          "text": [
            "0.9878027240255918\n"
          ],
          "name": "stdout"
        },
        {
          "output_type": "display_data",
          "data": {
            "image/png": "[encoded data removed]",
            "text/plain": [
              "<Figure size 432x288 with 1 Axes>"
            ]
          },
          "metadata": {
            "tags": [],
            "needs_background": "light"
          }
        }
      ]
    },
    {
      "cell_type": "code",
      "metadata": {
        "colab": {
          "base_uri": "https://localhost:8080/",
          "height": 730
        },
        "id": "8bIpIdZFpbr0",
        "outputId": "7d9e32cf-bc81-4d03-a3cd-29ed2fb49bf0"
      },
      "source": [
        "#Features importances\n",
        "features = df_final_train.columns\n",
        "importances = clf.feature_importances_\n",
        "indices = (np.argsort(importances))[-25:]\n",
        "plt.figure(figsize=(10,12))\n",
        "plt.title('Feature Importances')\n",
        "plt.barh(range(len(indices)), importances[indices], color='r', align='center')\n",
        "plt.yticks(range(len(indices)), [features[i] for i in indices])\n",
        "plt.xlabel('Relative Importance')\n",
        "plt.show()"
      ],
      "execution_count": null,
      "outputs": [
        {
          "output_type": "display_data",
          "data": {
            "image/png": "[encoded data removed]",
            "text/plain": [
              "<Figure size 720x864 with 1 Axes>"
            ]
          },
          "metadata": {
            "tags": [],
            "needs_background": "light"
          }
        }
      ]
    }
  ]
}